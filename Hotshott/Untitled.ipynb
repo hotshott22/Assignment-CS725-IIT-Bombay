{
 "cells": [
  {
   "cell_type": "code",
   "execution_count": 1,
   "id": "0d743c32",
   "metadata": {},
   "outputs": [],
   "source": [
    "import numpy as np"
   ]
  },
  {
   "cell_type": "code",
   "execution_count": 3,
   "id": "2738a102",
   "metadata": {},
   "outputs": [
    {
     "data": {
      "text/plain": [
       "array([[0.2076395 , 0.99408998, 0.31624134],\n",
       "       [0.16141401, 0.23497968, 0.96026862],\n",
       "       [0.54950844, 0.47392833, 0.28633767]])"
      ]
     },
     "execution_count": 3,
     "metadata": {},
     "output_type": "execute_result"
    }
   ],
   "source": [
    "m1 = np.random.random((3,3))\n",
    "m1"
   ]
  },
  {
   "cell_type": "code",
   "execution_count": 4,
   "id": "b5c3d56e",
   "metadata": {},
   "outputs": [],
   "source": [
    "def initialise_input(N, d):\n",
    "  '''\n",
    "  N: Number of vectors\n",
    "  d: dimension of vectors\n",
    "  '''\n",
    "  np.random.seed(0)\n",
    "  U = np.random.randn(N, d)\n",
    "  M1 = np.abs(np.random.randn(d, d))\n",
    "  M2 = np.abs(np.random.randn(d, d))\n",
    "\n",
    "  return U, M1, M2"
   ]
  },
  {
   "cell_type": "code",
   "execution_count": 36,
   "id": "87347a6a",
   "metadata": {},
   "outputs": [],
   "source": [
    "def solve():\n",
    "    N,d = 9,5\n",
    "    U,M1,M2 = initialise_input(N, d)\n",
    "    \n",
    "#     1 \n",
    "    X = U @ M1.T\n",
    "    Y = U @ M2.T\n",
    "    \n",
    "#     2\n",
    "    X_hat = X + np.arange(1, N + 1).reshape(N, 1)\n",
    "    \n",
    "#     3\n",
    "    Z = X @ X_hat.T  \n",
    "    \n",
    "    mask = np.ones((N, N), dtype=bool)\n",
    "    mask[np.tril_indices(N, -1)] = False  \n",
    "    Z_sparse = Z * mask\n",
    "    \n",
    "#     4\n",
    "    exp_Z = np.exp(Z_sparse - np.max(Z_sparse, axis=1, keepdims=True))  \n",
    "    Z_hat = exp_Z / exp_Z.sum(axis=1, keepdims=True)\n",
    "    \n",
    "#     5\n",
    "    max_indices = np.argmax(Z_hat, axis=1)\n",
    "\n",
    "    return max_indices\n",
    "\n",
    "    "
   ]
  },
  {
   "cell_type": "code",
   "execution_count": 37,
   "id": "79588f50",
   "metadata": {},
   "outputs": [
    {
     "name": "stdout",
     "output_type": "stream",
     "text": [
      "[7 3 7 7 0 7 0 7 0]\n"
     ]
    }
   ],
   "source": [
    "max_indices = solve()\n",
    "print(max_indices)\n"
   ]
  },
  {
   "cell_type": "code",
   "execution_count": null,
   "id": "5f6479c1",
   "metadata": {},
   "outputs": [],
   "source": []
  },
  {
   "cell_type": "code",
   "execution_count": null,
   "id": "f7c80247",
   "metadata": {},
   "outputs": [],
   "source": []
  },
  {
   "cell_type": "code",
   "execution_count": null,
   "id": "121ceb0a",
   "metadata": {},
   "outputs": [],
   "source": []
  }
 ],
 "metadata": {
  "kernelspec": {
   "display_name": "Python 3 (ipykernel)",
   "language": "python",
   "name": "python3"
  },
  "language_info": {
   "codemirror_mode": {
    "name": "ipython",
    "version": 3
   },
   "file_extension": ".py",
   "mimetype": "text/x-python",
   "name": "python",
   "nbconvert_exporter": "python",
   "pygments_lexer": "ipython3",
   "version": "3.9.13"
  }
 },
 "nbformat": 4,
 "nbformat_minor": 5
}
