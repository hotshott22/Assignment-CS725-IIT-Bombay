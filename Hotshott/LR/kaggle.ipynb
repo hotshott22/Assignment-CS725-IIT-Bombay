{
 "cells": [
  {
   "cell_type": "code",
   "execution_count": 117,
   "id": "5e357b15",
   "metadata": {},
   "outputs": [],
   "source": [
    "import pandas as pd\n",
    "import numpy as np\n",
    "\n",
    "import matplotlib.pyplot as plt\n",
    "import matplotlib.animation as animation\n",
    "\n",
    "\n",
    "from subprocess import check_output\n",
    "\n",
    "\n",
    "from sklearn.model_selection import train_test_split\n",
    "import sklearn\n",
    "\n",
    "import seaborn as sns\n",
    "\n"
   ]
  },
  {
   "cell_type": "code",
   "execution_count": 100,
   "id": "9b9523b5",
   "metadata": {},
   "outputs": [],
   "source": [
    "from sklearn.model_selection import train_test_split\n",
    "from sklearn import datasets\n",
    "import matplotlib.pyplot as plt"
   ]
  },
  {
   "cell_type": "code",
   "execution_count": 134,
   "id": "6812bec2",
   "metadata": {},
   "outputs": [],
   "source": [
    "import numpy as np\n",
    "from sklearn.model_selection import train_test_split\n",
    "from sklearn import datasets\n",
    "import matplotlib.pyplot as plt\n",
    "from LinearRegression import LinearRegression\n"
   ]
  },
  {
   "cell_type": "code",
   "execution_count": 198,
   "id": "6b232550",
   "metadata": {},
   "outputs": [],
   "source": [
    "df = pd.read_csv(\"train.csv\")\n",
    "test = pd.read_csv(\"test.csv\")"
   ]
  },
  {
   "cell_type": "code",
   "execution_count": 199,
   "id": "7ce5614f",
   "metadata": {
    "scrolled": false
   },
   "outputs": [
    {
     "name": "stdout",
     "output_type": "stream",
     "text": [
      "<class 'pandas.core.frame.DataFrame'>\n"
     ]
    },
    {
     "data": {
      "text/html": [
       "<div>\n",
       "<style scoped>\n",
       "    .dataframe tbody tr th:only-of-type {\n",
       "        vertical-align: middle;\n",
       "    }\n",
       "\n",
       "    .dataframe tbody tr th {\n",
       "        vertical-align: top;\n",
       "    }\n",
       "\n",
       "    .dataframe thead th {\n",
       "        text-align: right;\n",
       "    }\n",
       "</style>\n",
       "<table border=\"1\" class=\"dataframe\">\n",
       "  <thead>\n",
       "    <tr style=\"text-align: right;\">\n",
       "      <th></th>\n",
       "      <th>feature_0</th>\n",
       "      <th>feature_1</th>\n",
       "      <th>feature_2</th>\n",
       "      <th>feature_3</th>\n",
       "      <th>feature_4</th>\n",
       "      <th>feature_5</th>\n",
       "      <th>feature_6</th>\n",
       "      <th>feature_7</th>\n",
       "      <th>feature_8</th>\n",
       "      <th>feature_9</th>\n",
       "      <th>...</th>\n",
       "      <th>feature_54</th>\n",
       "      <th>feature_55</th>\n",
       "      <th>feature_56</th>\n",
       "      <th>feature_57</th>\n",
       "      <th>feature_58</th>\n",
       "      <th>feature_59</th>\n",
       "      <th>feature_60</th>\n",
       "      <th>feature_61</th>\n",
       "      <th>feature_62</th>\n",
       "      <th>feature_63</th>\n",
       "    </tr>\n",
       "  </thead>\n",
       "  <tbody>\n",
       "    <tr>\n",
       "      <th>0</th>\n",
       "      <td>0.040776</td>\n",
       "      <td>2.247366</td>\n",
       "      <td>0.486094</td>\n",
       "      <td>-1.791148</td>\n",
       "      <td>-0.260466</td>\n",
       "      <td>-0.693494</td>\n",
       "      <td>-0.007988</td>\n",
       "      <td>-0.390353</td>\n",
       "      <td>0.342489</td>\n",
       "      <td>-0.160722</td>\n",
       "      <td>...</td>\n",
       "      <td>0.044653</td>\n",
       "      <td>0.116905</td>\n",
       "      <td>0.004497</td>\n",
       "      <td>0.045408</td>\n",
       "      <td>-0.160795</td>\n",
       "      <td>0.018927</td>\n",
       "      <td>0.038400</td>\n",
       "      <td>-0.224252</td>\n",
       "      <td>-0.095052</td>\n",
       "      <td>-0.060982</td>\n",
       "    </tr>\n",
       "    <tr>\n",
       "      <th>1</th>\n",
       "      <td>2.885314</td>\n",
       "      <td>-1.228567</td>\n",
       "      <td>-0.023254</td>\n",
       "      <td>1.243954</td>\n",
       "      <td>-0.276285</td>\n",
       "      <td>0.791822</td>\n",
       "      <td>-0.390133</td>\n",
       "      <td>0.048296</td>\n",
       "      <td>-0.007136</td>\n",
       "      <td>-0.381282</td>\n",
       "      <td>...</td>\n",
       "      <td>0.089593</td>\n",
       "      <td>0.111936</td>\n",
       "      <td>-0.050685</td>\n",
       "      <td>-0.163769</td>\n",
       "      <td>-0.068437</td>\n",
       "      <td>0.082455</td>\n",
       "      <td>-0.013019</td>\n",
       "      <td>-0.052774</td>\n",
       "      <td>-0.042545</td>\n",
       "      <td>-0.027698</td>\n",
       "    </tr>\n",
       "    <tr>\n",
       "      <th>2</th>\n",
       "      <td>2.612578</td>\n",
       "      <td>0.978922</td>\n",
       "      <td>0.402049</td>\n",
       "      <td>0.628482</td>\n",
       "      <td>0.481488</td>\n",
       "      <td>-0.421969</td>\n",
       "      <td>-0.090971</td>\n",
       "      <td>-0.496587</td>\n",
       "      <td>0.314399</td>\n",
       "      <td>-0.272321</td>\n",
       "      <td>...</td>\n",
       "      <td>0.045706</td>\n",
       "      <td>-0.066646</td>\n",
       "      <td>-0.092024</td>\n",
       "      <td>-0.078880</td>\n",
       "      <td>-0.005543</td>\n",
       "      <td>0.104462</td>\n",
       "      <td>0.136459</td>\n",
       "      <td>-0.064776</td>\n",
       "      <td>0.074138</td>\n",
       "      <td>0.030638</td>\n",
       "    </tr>\n",
       "    <tr>\n",
       "      <th>3</th>\n",
       "      <td>0.333623</td>\n",
       "      <td>0.658054</td>\n",
       "      <td>-0.747531</td>\n",
       "      <td>-0.505702</td>\n",
       "      <td>0.359609</td>\n",
       "      <td>0.459562</td>\n",
       "      <td>0.278906</td>\n",
       "      <td>0.078858</td>\n",
       "      <td>0.330526</td>\n",
       "      <td>0.250832</td>\n",
       "      <td>...</td>\n",
       "      <td>0.021199</td>\n",
       "      <td>0.121561</td>\n",
       "      <td>0.065324</td>\n",
       "      <td>0.114508</td>\n",
       "      <td>0.007231</td>\n",
       "      <td>0.055410</td>\n",
       "      <td>0.016136</td>\n",
       "      <td>-0.049182</td>\n",
       "      <td>-0.059409</td>\n",
       "      <td>-0.144704</td>\n",
       "    </tr>\n",
       "    <tr>\n",
       "      <th>4</th>\n",
       "      <td>-0.873343</td>\n",
       "      <td>-0.650602</td>\n",
       "      <td>0.336838</td>\n",
       "      <td>0.100677</td>\n",
       "      <td>-0.317427</td>\n",
       "      <td>-0.072732</td>\n",
       "      <td>-0.187683</td>\n",
       "      <td>0.493616</td>\n",
       "      <td>-0.234106</td>\n",
       "      <td>0.408980</td>\n",
       "      <td>...</td>\n",
       "      <td>0.052881</td>\n",
       "      <td>0.143080</td>\n",
       "      <td>0.051453</td>\n",
       "      <td>0.032550</td>\n",
       "      <td>-0.088987</td>\n",
       "      <td>0.003385</td>\n",
       "      <td>0.097682</td>\n",
       "      <td>-0.020679</td>\n",
       "      <td>-0.115271</td>\n",
       "      <td>-0.014201</td>\n",
       "    </tr>\n",
       "    <tr>\n",
       "      <th>...</th>\n",
       "      <td>...</td>\n",
       "      <td>...</td>\n",
       "      <td>...</td>\n",
       "      <td>...</td>\n",
       "      <td>...</td>\n",
       "      <td>...</td>\n",
       "      <td>...</td>\n",
       "      <td>...</td>\n",
       "      <td>...</td>\n",
       "      <td>...</td>\n",
       "      <td>...</td>\n",
       "      <td>...</td>\n",
       "      <td>...</td>\n",
       "      <td>...</td>\n",
       "      <td>...</td>\n",
       "      <td>...</td>\n",
       "      <td>...</td>\n",
       "      <td>...</td>\n",
       "      <td>...</td>\n",
       "      <td>...</td>\n",
       "      <td>...</td>\n",
       "    </tr>\n",
       "    <tr>\n",
       "      <th>34983</th>\n",
       "      <td>-1.574837</td>\n",
       "      <td>0.603624</td>\n",
       "      <td>0.607492</td>\n",
       "      <td>-0.655132</td>\n",
       "      <td>0.039056</td>\n",
       "      <td>-0.684888</td>\n",
       "      <td>-0.003937</td>\n",
       "      <td>-0.681982</td>\n",
       "      <td>0.348053</td>\n",
       "      <td>-0.536585</td>\n",
       "      <td>...</td>\n",
       "      <td>0.091858</td>\n",
       "      <td>0.103201</td>\n",
       "      <td>0.125239</td>\n",
       "      <td>0.050844</td>\n",
       "      <td>-0.023620</td>\n",
       "      <td>0.000394</td>\n",
       "      <td>-0.114906</td>\n",
       "      <td>-0.236198</td>\n",
       "      <td>0.023110</td>\n",
       "      <td>0.204743</td>\n",
       "    </tr>\n",
       "    <tr>\n",
       "      <th>34984</th>\n",
       "      <td>2.636006</td>\n",
       "      <td>-2.167586</td>\n",
       "      <td>1.139903</td>\n",
       "      <td>-1.175634</td>\n",
       "      <td>-0.159514</td>\n",
       "      <td>-0.776160</td>\n",
       "      <td>0.318481</td>\n",
       "      <td>-0.247046</td>\n",
       "      <td>-0.539630</td>\n",
       "      <td>-0.415432</td>\n",
       "      <td>...</td>\n",
       "      <td>0.053937</td>\n",
       "      <td>-0.002924</td>\n",
       "      <td>-0.047336</td>\n",
       "      <td>0.119949</td>\n",
       "      <td>-0.020814</td>\n",
       "      <td>0.077601</td>\n",
       "      <td>-0.186566</td>\n",
       "      <td>0.029815</td>\n",
       "      <td>-0.003559</td>\n",
       "      <td>0.073755</td>\n",
       "    </tr>\n",
       "    <tr>\n",
       "      <th>34985</th>\n",
       "      <td>0.346525</td>\n",
       "      <td>1.125346</td>\n",
       "      <td>-0.373337</td>\n",
       "      <td>1.092373</td>\n",
       "      <td>1.080213</td>\n",
       "      <td>0.153022</td>\n",
       "      <td>-0.036266</td>\n",
       "      <td>0.230058</td>\n",
       "      <td>0.272783</td>\n",
       "      <td>-0.118605</td>\n",
       "      <td>...</td>\n",
       "      <td>0.036403</td>\n",
       "      <td>-0.031702</td>\n",
       "      <td>0.050574</td>\n",
       "      <td>-0.014162</td>\n",
       "      <td>0.008040</td>\n",
       "      <td>0.049315</td>\n",
       "      <td>0.095176</td>\n",
       "      <td>0.015352</td>\n",
       "      <td>0.050573</td>\n",
       "      <td>-0.149185</td>\n",
       "    </tr>\n",
       "    <tr>\n",
       "      <th>34986</th>\n",
       "      <td>1.165356</td>\n",
       "      <td>3.261923</td>\n",
       "      <td>-0.482071</td>\n",
       "      <td>0.154124</td>\n",
       "      <td>0.891463</td>\n",
       "      <td>-0.100646</td>\n",
       "      <td>0.034768</td>\n",
       "      <td>0.090878</td>\n",
       "      <td>-0.412094</td>\n",
       "      <td>0.270255</td>\n",
       "      <td>...</td>\n",
       "      <td>-0.087733</td>\n",
       "      <td>-0.033497</td>\n",
       "      <td>0.118793</td>\n",
       "      <td>-0.016985</td>\n",
       "      <td>0.078523</td>\n",
       "      <td>0.001277</td>\n",
       "      <td>-0.015611</td>\n",
       "      <td>-0.015703</td>\n",
       "      <td>-0.018589</td>\n",
       "      <td>0.068585</td>\n",
       "    </tr>\n",
       "    <tr>\n",
       "      <th>34987</th>\n",
       "      <td>1.556687</td>\n",
       "      <td>0.061034</td>\n",
       "      <td>-0.112814</td>\n",
       "      <td>0.031185</td>\n",
       "      <td>0.309307</td>\n",
       "      <td>0.625897</td>\n",
       "      <td>-0.536777</td>\n",
       "      <td>0.209461</td>\n",
       "      <td>0.026935</td>\n",
       "      <td>0.001403</td>\n",
       "      <td>...</td>\n",
       "      <td>-0.186928</td>\n",
       "      <td>0.033628</td>\n",
       "      <td>0.044231</td>\n",
       "      <td>0.058473</td>\n",
       "      <td>0.080939</td>\n",
       "      <td>-0.087056</td>\n",
       "      <td>0.067948</td>\n",
       "      <td>-0.004212</td>\n",
       "      <td>-0.049593</td>\n",
       "      <td>-0.029361</td>\n",
       "    </tr>\n",
       "  </tbody>\n",
       "</table>\n",
       "<p>34988 rows × 64 columns</p>\n",
       "</div>"
      ],
      "text/plain": [
       "       feature_0  feature_1  feature_2  feature_3  feature_4  feature_5  \\\n",
       "0       0.040776   2.247366   0.486094  -1.791148  -0.260466  -0.693494   \n",
       "1       2.885314  -1.228567  -0.023254   1.243954  -0.276285   0.791822   \n",
       "2       2.612578   0.978922   0.402049   0.628482   0.481488  -0.421969   \n",
       "3       0.333623   0.658054  -0.747531  -0.505702   0.359609   0.459562   \n",
       "4      -0.873343  -0.650602   0.336838   0.100677  -0.317427  -0.072732   \n",
       "...          ...        ...        ...        ...        ...        ...   \n",
       "34983  -1.574837   0.603624   0.607492  -0.655132   0.039056  -0.684888   \n",
       "34984   2.636006  -2.167586   1.139903  -1.175634  -0.159514  -0.776160   \n",
       "34985   0.346525   1.125346  -0.373337   1.092373   1.080213   0.153022   \n",
       "34986   1.165356   3.261923  -0.482071   0.154124   0.891463  -0.100646   \n",
       "34987   1.556687   0.061034  -0.112814   0.031185   0.309307   0.625897   \n",
       "\n",
       "       feature_6  feature_7  feature_8  feature_9  ...  feature_54  \\\n",
       "0      -0.007988  -0.390353   0.342489  -0.160722  ...    0.044653   \n",
       "1      -0.390133   0.048296  -0.007136  -0.381282  ...    0.089593   \n",
       "2      -0.090971  -0.496587   0.314399  -0.272321  ...    0.045706   \n",
       "3       0.278906   0.078858   0.330526   0.250832  ...    0.021199   \n",
       "4      -0.187683   0.493616  -0.234106   0.408980  ...    0.052881   \n",
       "...          ...        ...        ...        ...  ...         ...   \n",
       "34983  -0.003937  -0.681982   0.348053  -0.536585  ...    0.091858   \n",
       "34984   0.318481  -0.247046  -0.539630  -0.415432  ...    0.053937   \n",
       "34985  -0.036266   0.230058   0.272783  -0.118605  ...    0.036403   \n",
       "34986   0.034768   0.090878  -0.412094   0.270255  ...   -0.087733   \n",
       "34987  -0.536777   0.209461   0.026935   0.001403  ...   -0.186928   \n",
       "\n",
       "       feature_55  feature_56  feature_57  feature_58  feature_59  feature_60  \\\n",
       "0        0.116905    0.004497    0.045408   -0.160795    0.018927    0.038400   \n",
       "1        0.111936   -0.050685   -0.163769   -0.068437    0.082455   -0.013019   \n",
       "2       -0.066646   -0.092024   -0.078880   -0.005543    0.104462    0.136459   \n",
       "3        0.121561    0.065324    0.114508    0.007231    0.055410    0.016136   \n",
       "4        0.143080    0.051453    0.032550   -0.088987    0.003385    0.097682   \n",
       "...           ...         ...         ...         ...         ...         ...   \n",
       "34983    0.103201    0.125239    0.050844   -0.023620    0.000394   -0.114906   \n",
       "34984   -0.002924   -0.047336    0.119949   -0.020814    0.077601   -0.186566   \n",
       "34985   -0.031702    0.050574   -0.014162    0.008040    0.049315    0.095176   \n",
       "34986   -0.033497    0.118793   -0.016985    0.078523    0.001277   -0.015611   \n",
       "34987    0.033628    0.044231    0.058473    0.080939   -0.087056    0.067948   \n",
       "\n",
       "       feature_61  feature_62  feature_63  \n",
       "0       -0.224252   -0.095052   -0.060982  \n",
       "1       -0.052774   -0.042545   -0.027698  \n",
       "2       -0.064776    0.074138    0.030638  \n",
       "3       -0.049182   -0.059409   -0.144704  \n",
       "4       -0.020679   -0.115271   -0.014201  \n",
       "...           ...         ...         ...  \n",
       "34983   -0.236198    0.023110    0.204743  \n",
       "34984    0.029815   -0.003559    0.073755  \n",
       "34985    0.015352    0.050573   -0.149185  \n",
       "34986   -0.015703   -0.018589    0.068585  \n",
       "34987   -0.004212   -0.049593   -0.029361  \n",
       "\n",
       "[34988 rows x 64 columns]"
      ]
     },
     "execution_count": 199,
     "metadata": {},
     "output_type": "execute_result"
    }
   ],
   "source": [
    "X = pd.DataFrame(X)\n",
    "print(type(X))\n",
    "X"
   ]
  },
  {
   "cell_type": "code",
   "execution_count": 200,
   "id": "e7a17dff",
   "metadata": {
    "scrolled": true
   },
   "outputs": [
    {
     "name": "stdout",
     "output_type": "stream",
     "text": [
      "<class 'pandas.core.series.Series'>\n"
     ]
    },
    {
     "data": {
      "text/plain": [
       "0        0.0\n",
       "1        3.0\n",
       "2        0.0\n",
       "3        3.0\n",
       "4        3.0\n",
       "        ... \n",
       "34983    3.0\n",
       "34984    4.0\n",
       "34985    1.0\n",
       "34986    0.0\n",
       "34987    4.0\n",
       "Name: score, Length: 34988, dtype: float64"
      ]
     },
     "execution_count": 200,
     "metadata": {},
     "output_type": "execute_result"
    }
   ],
   "source": [
    "print(type(y))\n",
    "y\n",
    "\n"
   ]
  },
  {
   "cell_type": "code",
   "execution_count": 201,
   "id": "7d11eac0",
   "metadata": {},
   "outputs": [],
   "source": [
    "total_rows, total_columns = X.shape"
   ]
  },
  {
   "cell_type": "code",
   "execution_count": null,
   "id": "109153b3",
   "metadata": {},
   "outputs": [],
   "source": []
  },
  {
   "cell_type": "code",
   "execution_count": 123,
   "id": "a0192fb8",
   "metadata": {},
   "outputs": [],
   "source": [
    "\n",
    "X, y = datasets.make_regression(n_samples=100, n_features=1, noise=20, random_state=4)\n",
    "X_train, X_test, y_train, y_test = train_test_split(X, y, test_size=0.2, random_state=1234)\n",
    "\n",
    "fig = plt.figure(figsize=(8,6))\n",
    "plt.scatter(X[:, 0], y, color = \"b\", marker = \"o\", s = 30)\n",
    "plt.show()\n",
    "\n",
    "reg = LinearRegression(lr=0.01)\n",
    "reg.fit(X_train,y_train)\n",
    "predictions = reg.predict(X_test)\n",
    "\n",
    "def mse(y_test, predictions):\n",
    "    return np.mean((y_test-predictions)**2)\n",
    "\n",
    "mse = mse(y_test, predictions)\n",
    "print(mse)\n",
    "\n",
    "y_pred_line = reg.predict(X)\n",
    "cmap = plt.get_cmap('viridis')\n",
    "fig = plt.figure(figsize=(8,6))\n",
    "m1 = plt.scatter(X_train, y_train, color=cmap(0.9), s=10)\n",
    "m2 = plt.scatter(X_test, y_test, color=cmap(0.5), s=10)\n",
    "plt.plot(X, y_pred_line, color='black', linewidth=2, label='Prediction')\n",
    "plt.show()"
   ]
  },
  {
   "cell_type": "code",
   "execution_count": null,
   "id": "206d6208",
   "metadata": {},
   "outputs": [],
   "source": []
  },
  {
   "cell_type": "code",
   "execution_count": null,
   "id": "ed705f5d",
   "metadata": {},
   "outputs": [],
   "source": []
  },
  {
   "cell_type": "code",
   "execution_count": null,
   "id": "1cbe4bf2",
   "metadata": {},
   "outputs": [],
   "source": []
  },
  {
   "cell_type": "code",
   "execution_count": null,
   "id": "c635bbaa",
   "metadata": {},
   "outputs": [],
   "source": []
  },
  {
   "cell_type": "code",
   "execution_count": null,
   "id": "6946e88c",
   "metadata": {},
   "outputs": [],
   "source": []
  },
  {
   "cell_type": "code",
   "execution_count": null,
   "id": "404e7837",
   "metadata": {},
   "outputs": [],
   "source": []
  },
  {
   "cell_type": "code",
   "execution_count": 202,
   "id": "a51148a3",
   "metadata": {},
   "outputs": [],
   "source": [
    "import pandas as pd\n",
    "\n",
    "# Load the training data\n",
    "train_data = pd.read_csv('train.csv')\n",
    "\n",
    "# Load the test data\n",
    "test_data = pd.read_csv('test.csv')\n"
   ]
  },
  {
   "cell_type": "code",
   "execution_count": 203,
   "id": "b9aa95fe",
   "metadata": {},
   "outputs": [],
   "source": [
    "# Assume the last column is the target in the training data\n",
    "X_train = train_data.iloc[:, :-1]  # All rows, all columns except the last one (features)\n",
    "y_train = train_data.iloc[:, -1]   # All rows, just the last column (target)\n",
    "\n",
    "# The test data should have the same columns as X_train\n",
    "X_test = test_data  # Since test data has no target column\n"
   ]
  },
  {
   "cell_type": "code",
   "execution_count": 204,
   "id": "7eab4d0f",
   "metadata": {},
   "outputs": [
    {
     "data": {
      "text/plain": [
       "(14996, 65)"
      ]
     },
     "execution_count": 204,
     "metadata": {},
     "output_type": "execute_result"
    }
   ],
   "source": [
    "test_data.shape"
   ]
  },
  {
   "cell_type": "code",
   "execution_count": 205,
   "id": "661f20b1",
   "metadata": {},
   "outputs": [
    {
     "data": {
      "text/plain": [
       "(34988, 66)"
      ]
     },
     "execution_count": 205,
     "metadata": {},
     "output_type": "execute_result"
    }
   ],
   "source": [
    "train_data.shape"
   ]
  },
  {
   "cell_type": "code",
   "execution_count": 206,
   "id": "31ab2924",
   "metadata": {},
   "outputs": [
    {
     "data": {
      "text/html": [
       "<style>#sk-container-id-5 {color: black;background-color: white;}#sk-container-id-5 pre{padding: 0;}#sk-container-id-5 div.sk-toggleable {background-color: white;}#sk-container-id-5 label.sk-toggleable__label {cursor: pointer;display: block;width: 100%;margin-bottom: 0;padding: 0.3em;box-sizing: border-box;text-align: center;}#sk-container-id-5 label.sk-toggleable__label-arrow:before {content: \"▸\";float: left;margin-right: 0.25em;color: #696969;}#sk-container-id-5 label.sk-toggleable__label-arrow:hover:before {color: black;}#sk-container-id-5 div.sk-estimator:hover label.sk-toggleable__label-arrow:before {color: black;}#sk-container-id-5 div.sk-toggleable__content {max-height: 0;max-width: 0;overflow: hidden;text-align: left;background-color: #f0f8ff;}#sk-container-id-5 div.sk-toggleable__content pre {margin: 0.2em;color: black;border-radius: 0.25em;background-color: #f0f8ff;}#sk-container-id-5 input.sk-toggleable__control:checked~div.sk-toggleable__content {max-height: 200px;max-width: 100%;overflow: auto;}#sk-container-id-5 input.sk-toggleable__control:checked~label.sk-toggleable__label-arrow:before {content: \"▾\";}#sk-container-id-5 div.sk-estimator input.sk-toggleable__control:checked~label.sk-toggleable__label {background-color: #d4ebff;}#sk-container-id-5 div.sk-label input.sk-toggleable__control:checked~label.sk-toggleable__label {background-color: #d4ebff;}#sk-container-id-5 input.sk-hidden--visually {border: 0;clip: rect(1px 1px 1px 1px);clip: rect(1px, 1px, 1px, 1px);height: 1px;margin: -1px;overflow: hidden;padding: 0;position: absolute;width: 1px;}#sk-container-id-5 div.sk-estimator {font-family: monospace;background-color: #f0f8ff;border: 1px dotted black;border-radius: 0.25em;box-sizing: border-box;margin-bottom: 0.5em;}#sk-container-id-5 div.sk-estimator:hover {background-color: #d4ebff;}#sk-container-id-5 div.sk-parallel-item::after {content: \"\";width: 100%;border-bottom: 1px solid gray;flex-grow: 1;}#sk-container-id-5 div.sk-label:hover label.sk-toggleable__label {background-color: #d4ebff;}#sk-container-id-5 div.sk-serial::before {content: \"\";position: absolute;border-left: 1px solid gray;box-sizing: border-box;top: 0;bottom: 0;left: 50%;z-index: 0;}#sk-container-id-5 div.sk-serial {display: flex;flex-direction: column;align-items: center;background-color: white;padding-right: 0.2em;padding-left: 0.2em;position: relative;}#sk-container-id-5 div.sk-item {position: relative;z-index: 1;}#sk-container-id-5 div.sk-parallel {display: flex;align-items: stretch;justify-content: center;background-color: white;position: relative;}#sk-container-id-5 div.sk-item::before, #sk-container-id-5 div.sk-parallel-item::before {content: \"\";position: absolute;border-left: 1px solid gray;box-sizing: border-box;top: 0;bottom: 0;left: 50%;z-index: -1;}#sk-container-id-5 div.sk-parallel-item {display: flex;flex-direction: column;z-index: 1;position: relative;background-color: white;}#sk-container-id-5 div.sk-parallel-item:first-child::after {align-self: flex-end;width: 50%;}#sk-container-id-5 div.sk-parallel-item:last-child::after {align-self: flex-start;width: 50%;}#sk-container-id-5 div.sk-parallel-item:only-child::after {width: 0;}#sk-container-id-5 div.sk-dashed-wrapped {border: 1px dashed gray;margin: 0 0.4em 0.5em 0.4em;box-sizing: border-box;padding-bottom: 0.4em;background-color: white;}#sk-container-id-5 div.sk-label label {font-family: monospace;font-weight: bold;display: inline-block;line-height: 1.2em;}#sk-container-id-5 div.sk-label-container {text-align: center;}#sk-container-id-5 div.sk-container {/* jupyter's `normalize.less` sets `[hidden] { display: none; }` but bootstrap.min.css set `[hidden] { display: none !important; }` so we also need the `!important` here to be able to override the default hidden behavior on the sphinx rendered scikit-learn.org. See: https://github.com/scikit-learn/scikit-learn/issues/21755 */display: inline-block !important;position: relative;}#sk-container-id-5 div.sk-text-repr-fallback {display: none;}</style><div id=\"sk-container-id-5\" class=\"sk-top-container\"><div class=\"sk-text-repr-fallback\"><pre>LinearRegression()</pre><b>In a Jupyter environment, please rerun this cell to show the HTML representation or trust the notebook. <br />On GitHub, the HTML representation is unable to render, please try loading this page with nbviewer.org.</b></div><div class=\"sk-container\" hidden><div class=\"sk-item\"><div class=\"sk-estimator sk-toggleable\"><input class=\"sk-toggleable__control sk-hidden--visually\" id=\"sk-estimator-id-5\" type=\"checkbox\" checked><label for=\"sk-estimator-id-5\" class=\"sk-toggleable__label sk-toggleable__label-arrow\">LinearRegression</label><div class=\"sk-toggleable__content\"><pre>LinearRegression()</pre></div></div></div></div></div>"
      ],
      "text/plain": [
       "LinearRegression()"
      ]
     },
     "execution_count": 206,
     "metadata": {},
     "output_type": "execute_result"
    }
   ],
   "source": [
    "from sklearn.linear_model import LinearRegression\n",
    "\n",
    "# Initialize the model\n",
    "model = LinearRegression()\n",
    "\n",
    "# Train the model\n",
    "model.fit(X_train, y_train)\n"
   ]
  },
  {
   "cell_type": "code",
   "execution_count": 207,
   "id": "f6d42ae3",
   "metadata": {},
   "outputs": [],
   "source": [
    "# Make predictions on the test data\n",
    "predictions = model.predict(X_test)\n"
   ]
  },
  {
   "cell_type": "code",
   "execution_count": 208,
   "id": "ff5a2c07",
   "metadata": {},
   "outputs": [],
   "source": [
    "# Convert predictions to a DataFrame\n",
    "predictions_df = pd.DataFrame(predictions, columns=['Predicted_Target'])\n",
    "\n",
    "# Save the predictions to a CSV file\n",
    "predictions_df.to_csv('predictions.csv', index=False)\n"
   ]
  },
  {
   "cell_type": "code",
   "execution_count": 209,
   "id": "c6506e04",
   "metadata": {},
   "outputs": [
    {
     "name": "stdout",
     "output_type": "stream",
     "text": [
      "<class 'pandas.core.frame.DataFrame'>\n"
     ]
    },
    {
     "data": {
      "text/html": [
       "<div>\n",
       "<style scoped>\n",
       "    .dataframe tbody tr th:only-of-type {\n",
       "        vertical-align: middle;\n",
       "    }\n",
       "\n",
       "    .dataframe tbody tr th {\n",
       "        vertical-align: top;\n",
       "    }\n",
       "\n",
       "    .dataframe thead th {\n",
       "        text-align: right;\n",
       "    }\n",
       "</style>\n",
       "<table border=\"1\" class=\"dataframe\">\n",
       "  <thead>\n",
       "    <tr style=\"text-align: right;\">\n",
       "      <th></th>\n",
       "      <th>Predicted_Target</th>\n",
       "    </tr>\n",
       "  </thead>\n",
       "  <tbody>\n",
       "    <tr>\n",
       "      <th>0</th>\n",
       "      <td>3.884794</td>\n",
       "    </tr>\n",
       "    <tr>\n",
       "      <th>1</th>\n",
       "      <td>3.318684</td>\n",
       "    </tr>\n",
       "    <tr>\n",
       "      <th>2</th>\n",
       "      <td>2.676481</td>\n",
       "    </tr>\n",
       "    <tr>\n",
       "      <th>3</th>\n",
       "      <td>3.161754</td>\n",
       "    </tr>\n",
       "    <tr>\n",
       "      <th>4</th>\n",
       "      <td>3.019414</td>\n",
       "    </tr>\n",
       "    <tr>\n",
       "      <th>...</th>\n",
       "      <td>...</td>\n",
       "    </tr>\n",
       "    <tr>\n",
       "      <th>14991</th>\n",
       "      <td>3.241728</td>\n",
       "    </tr>\n",
       "    <tr>\n",
       "      <th>14992</th>\n",
       "      <td>3.487731</td>\n",
       "    </tr>\n",
       "    <tr>\n",
       "      <th>14993</th>\n",
       "      <td>3.499116</td>\n",
       "    </tr>\n",
       "    <tr>\n",
       "      <th>14994</th>\n",
       "      <td>2.753569</td>\n",
       "    </tr>\n",
       "    <tr>\n",
       "      <th>14995</th>\n",
       "      <td>2.584239</td>\n",
       "    </tr>\n",
       "  </tbody>\n",
       "</table>\n",
       "<p>14996 rows × 1 columns</p>\n",
       "</div>"
      ],
      "text/plain": [
       "       Predicted_Target\n",
       "0              3.884794\n",
       "1              3.318684\n",
       "2              2.676481\n",
       "3              3.161754\n",
       "4              3.019414\n",
       "...                 ...\n",
       "14991          3.241728\n",
       "14992          3.487731\n",
       "14993          3.499116\n",
       "14994          2.753569\n",
       "14995          2.584239\n",
       "\n",
       "[14996 rows x 1 columns]"
      ]
     },
     "execution_count": 209,
     "metadata": {},
     "output_type": "execute_result"
    }
   ],
   "source": [
    "print(type(predictions_df))\n",
    "predictions_df"
   ]
  },
  {
   "cell_type": "code",
   "execution_count": 210,
   "id": "eab92199",
   "metadata": {},
   "outputs": [
    {
     "name": "stdout",
     "output_type": "stream",
     "text": [
      "Mean Squared Error (MSE) on the training set: 0.8811040352397711\n"
     ]
    }
   ],
   "source": [
    "def calculate_mse(y_true, y_pred):\n",
    "    '''\n",
    "    Calculate Mean Squared Error (MSE) from scratch.\n",
    "\n",
    "    Args:\n",
    "        y_true: 1D numpy array of actual target values.\n",
    "        y_pred: 1D numpy array of predicted target values.\n",
    "\n",
    "    Returns:\n",
    "        mse: Mean Squared Error (MSE) as a float.\n",
    "    '''\n",
    "    # Calculate the differences between actual and predicted values\n",
    "    differences = y_true - y_pred\n",
    "    \n",
    "    # Square the differences\n",
    "    squared_differences = differences ** 2\n",
    "    \n",
    "    # Calculate the mean of the squared differences\n",
    "    mse = np.mean(squared_differences)\n",
    "    \n",
    "    return mse\n",
    "\n",
    "# Example usage with training data\n",
    "train_predictions = model.predict(X_train)  # Predictions from the trained model\n",
    "mse = calculate_mse(y_train, train_predictions)\n",
    "\n",
    "print(f'Mean Squared Error (MSE) on the training set: {mse}')\n"
   ]
  },
  {
   "cell_type": "code",
   "execution_count": 211,
   "id": "84da5649",
   "metadata": {},
   "outputs": [],
   "source": [
    "final_pred = test_data['ID']"
   ]
  },
  {
   "cell_type": "code",
   "execution_count": 212,
   "id": "dcbef37e",
   "metadata": {},
   "outputs": [
    {
     "name": "stderr",
     "output_type": "stream",
     "text": [
      "/var/folders/h3/lplmwndn2l1cw5q526nm0rlh0000gn/T/ipykernel_7251/2888332840.py:1: SettingWithCopyWarning: \n",
      "A value is trying to be set on a copy of a slice from a DataFrame\n",
      "\n",
      "See the caveats in the documentation: https://pandas.pydata.org/pandas-docs/stable/user_guide/indexing.html#returning-a-view-versus-a-copy\n",
      "  final_pred['values'] = predictions_df\n"
     ]
    }
   ],
   "source": [
    "final_pred['values'] = predictions_df"
   ]
  },
  {
   "cell_type": "code",
   "execution_count": 181,
   "id": "37f9cad8",
   "metadata": {},
   "outputs": [
    {
     "data": {
      "text/plain": [
       "(14997,)"
      ]
     },
     "execution_count": 181,
     "metadata": {},
     "output_type": "execute_result"
    }
   ],
   "source": [
    "final_pred.shape"
   ]
  },
  {
   "cell_type": "code",
   "execution_count": 186,
   "id": "1ac0b06e",
   "metadata": {},
   "outputs": [],
   "source": [
    "final_pred = test_data['ID']"
   ]
  },
  {
   "cell_type": "code",
   "execution_count": 192,
   "id": "2c67e6a7",
   "metadata": {},
   "outputs": [],
   "source": [
    "# final_pred.join(predictions_df)\n",
    "\n",
    "dat1 = pd.concat([final_pred, predictions_df], axis=1)\n"
   ]
  },
  {
   "cell_type": "code",
   "execution_count": 193,
   "id": "6f1c8b58",
   "metadata": {},
   "outputs": [
    {
     "data": {
      "text/html": [
       "<div>\n",
       "<style scoped>\n",
       "    .dataframe tbody tr th:only-of-type {\n",
       "        vertical-align: middle;\n",
       "    }\n",
       "\n",
       "    .dataframe tbody tr th {\n",
       "        vertical-align: top;\n",
       "    }\n",
       "\n",
       "    .dataframe thead th {\n",
       "        text-align: right;\n",
       "    }\n",
       "</style>\n",
       "<table border=\"1\" class=\"dataframe\">\n",
       "  <thead>\n",
       "    <tr style=\"text-align: right;\">\n",
       "      <th></th>\n",
       "      <th>ID</th>\n",
       "      <th>Predicted_Target</th>\n",
       "    </tr>\n",
       "  </thead>\n",
       "  <tbody>\n",
       "    <tr>\n",
       "      <th>0</th>\n",
       "      <td>34988</td>\n",
       "      <td>3.884794</td>\n",
       "    </tr>\n",
       "    <tr>\n",
       "      <th>1</th>\n",
       "      <td>34989</td>\n",
       "      <td>3.318684</td>\n",
       "    </tr>\n",
       "    <tr>\n",
       "      <th>2</th>\n",
       "      <td>34990</td>\n",
       "      <td>2.676481</td>\n",
       "    </tr>\n",
       "    <tr>\n",
       "      <th>3</th>\n",
       "      <td>34991</td>\n",
       "      <td>3.161754</td>\n",
       "    </tr>\n",
       "    <tr>\n",
       "      <th>4</th>\n",
       "      <td>34992</td>\n",
       "      <td>3.019414</td>\n",
       "    </tr>\n",
       "    <tr>\n",
       "      <th>...</th>\n",
       "      <td>...</td>\n",
       "      <td>...</td>\n",
       "    </tr>\n",
       "    <tr>\n",
       "      <th>14991</th>\n",
       "      <td>49979</td>\n",
       "      <td>3.241728</td>\n",
       "    </tr>\n",
       "    <tr>\n",
       "      <th>14992</th>\n",
       "      <td>49980</td>\n",
       "      <td>3.487731</td>\n",
       "    </tr>\n",
       "    <tr>\n",
       "      <th>14993</th>\n",
       "      <td>49981</td>\n",
       "      <td>3.499116</td>\n",
       "    </tr>\n",
       "    <tr>\n",
       "      <th>14994</th>\n",
       "      <td>49982</td>\n",
       "      <td>2.753569</td>\n",
       "    </tr>\n",
       "    <tr>\n",
       "      <th>14995</th>\n",
       "      <td>49983</td>\n",
       "      <td>2.584239</td>\n",
       "    </tr>\n",
       "  </tbody>\n",
       "</table>\n",
       "<p>14996 rows × 2 columns</p>\n",
       "</div>"
      ],
      "text/plain": [
       "          ID  Predicted_Target\n",
       "0      34988          3.884794\n",
       "1      34989          3.318684\n",
       "2      34990          2.676481\n",
       "3      34991          3.161754\n",
       "4      34992          3.019414\n",
       "...      ...               ...\n",
       "14991  49979          3.241728\n",
       "14992  49980          3.487731\n",
       "14993  49981          3.499116\n",
       "14994  49982          2.753569\n",
       "14995  49983          2.584239\n",
       "\n",
       "[14996 rows x 2 columns]"
      ]
     },
     "execution_count": 193,
     "metadata": {},
     "output_type": "execute_result"
    }
   ],
   "source": [
    "dat1"
   ]
  },
  {
   "cell_type": "code",
   "execution_count": 197,
   "id": "f6dba7e5",
   "metadata": {},
   "outputs": [],
   "source": [
    "dat1.to_csv('Hello.csv')\n"
   ]
  },
  {
   "cell_type": "code",
   "execution_count": null,
   "id": "aa165e1b",
   "metadata": {},
   "outputs": [],
   "source": []
  }
 ],
 "metadata": {
  "kernelspec": {
   "display_name": "Python 3 (ipykernel)",
   "language": "python",
   "name": "python3"
  },
  "language_info": {
   "codemirror_mode": {
    "name": "ipython",
    "version": 3
   },
   "file_extension": ".py",
   "mimetype": "text/x-python",
   "name": "python",
   "nbconvert_exporter": "python",
   "pygments_lexer": "ipython3",
   "version": "3.9.13"
  }
 },
 "nbformat": 4,
 "nbformat_minor": 5
}
